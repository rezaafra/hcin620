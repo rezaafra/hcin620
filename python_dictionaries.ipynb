{
  "nbformat": 4,
  "nbformat_minor": 0,
  "metadata": {
    "colab": {
      "name": "python_dictionaries.ipynb",
      "provenance": [],
      "authorship_tag": "ABX9TyN/eNaYJP2F6MsMDYnTmB3K",
      "include_colab_link": true
    },
    "kernelspec": {
      "name": "python3",
      "display_name": "Python 3"
    },
    "language_info": {
      "name": "python"
    }
  },
  "cells": [
    {
      "cell_type": "markdown",
      "metadata": {
        "id": "view-in-github",
        "colab_type": "text"
      },
      "source": [
        "<a href=\"https://colab.research.google.com/github/rezaafra/hcin620/blob/master/python_dictionaries.ipynb\" target=\"_parent\"><img src=\"https://colab.research.google.com/assets/colab-badge.svg\" alt=\"Open In Colab\"/></a>"
      ]
    },
    {
      "cell_type": "code",
      "metadata": {
        "id": "7DruHjR9zh_D"
      },
      "source": [
        "sal_info = {}\n",
        "\n",
        "\n",
        "sal_info['San Diego'] = 92104\n",
        "sal_info['San Jose'] = 120234\n",
        "sal_info['New York'] =  114398"
      ],
      "execution_count": null,
      "outputs": []
    },
    {
      "cell_type": "code",
      "metadata": {
        "colab": {
          "base_uri": "https://localhost:8080/"
        },
        "id": "rmesE3Cfz_Aj",
        "outputId": "b878c560-5099-4dda-b5bf-c9da7facb133"
      },
      "source": [
        "sal_info"
      ],
      "execution_count": null,
      "outputs": [
        {
          "output_type": "execute_result",
          "data": {
            "text/plain": [
              "{'New York': 114398, 'San Diego': 92104, 'San Jose': 120234}"
            ]
          },
          "metadata": {
            "tags": []
          },
          "execution_count": 3
        }
      ]
    },
    {
      "cell_type": "code",
      "metadata": {
        "id": "k9ukaH460T7n"
      },
      "source": [
        ""
      ],
      "execution_count": null,
      "outputs": []
    }
  ]
}